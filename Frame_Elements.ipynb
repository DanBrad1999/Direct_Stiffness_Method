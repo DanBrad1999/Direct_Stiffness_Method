{
 "cells": [
  {
   "cell_type": "markdown",
   "metadata": {},
   "source": [
    "[![Open In Colab](https://colab.research.google.com/assets/colab-badge.svg)](https://colab.research.google.com/github/dpholmes/DirectStiffnessMethod/blob/master/planarBeams.ipynb)"
   ]
  },
  {
   "cell_type": "markdown",
   "metadata": {},
   "source": [
    "<h1>Direct Stiffness Method: Frame Elements</h1>\n",
    "<h3>Structural Mechanics, Boston University</h3>\n",
    "<h4>Core Functionality Provided by Prof. Douglas P. Holmes</h4>\n",
    "<h4>Additional Functionality Added by Daniel W. Bradford</h4>"
   ]
  },
  {
   "cell_type": "code",
   "execution_count": 1,
   "metadata": {},
   "outputs": [],
   "source": [
    "# Here are some common libraries that expand the functionality of python\n",
    "import math         # sine, cosine, sqrt, etc.\n",
    "import numpy as np  # so we can work with matrices\n",
    "\n",
    "import matplotlib\n",
    "import matplotlib.pyplot as plt # plotting\n",
    "\n",
    "import sympy as sp        # symbolic calculations"
   ]
  },
  {
   "cell_type": "code",
   "execution_count": 2,
   "metadata": {},
   "outputs": [],
   "source": [
    "# uncomment the lines below if using Google Colab\n",
    "\n",
    "#from IPython.display import Math, HTML\n",
    "\n",
    "#def load_mathjax_in_cell_output():\n",
    "#  display(HTML(\"<script src='https://www.gstatic.com/external_hosted/\"\n",
    "#               \"mathjax/latest/MathJax.js?config=default'></script>\"))\n",
    "#get_ipython().events.register('pre_run_cell', load_mathjax_in_cell_output)\n",
    "\n",
    "#sp.init_printing() "
   ]
  },
  {
   "cell_type": "markdown",
   "metadata": {},
   "source": [
    "<h2>Deriving the Elemental Stiffness Matrix for Beam Elements</h2>"
   ]
  },
  {
   "cell_type": "code",
   "execution_count": 3,
   "metadata": {},
   "outputs": [],
   "source": [
    "x, a1, a2, a3, a4, L = sp.symbols('x a1 a2 a3 a4 L') # deflection w(x) = a1+a2*x+a3*x^2+a4*x^3\n",
    "w1, w2, theta_1, theta_2 = sp.symbols('w1 w2 theta_1 theta_2') # degrees of freedom (DoF)\n",
    "E, I = sp.symbols('E I') # materials and geometry\n",
    "F1, M1, F2, M2 = sp.symbols('F1 M1 F2 M2') # forces (y direction) and couples\n",
    "P, q = sp.symbols('P q') # force, force/length"
   ]
  },
  {
   "cell_type": "code",
   "execution_count": 4,
   "metadata": {},
   "outputs": [],
   "source": [
    "def w(x):\n",
    "    return a1+a2*x+a3*x**2+a4*x**3"
   ]
  },
  {
   "cell_type": "code",
   "execution_count": 5,
   "metadata": {},
   "outputs": [
    {
     "data": {
      "text/latex": [
       "$\\displaystyle a_{1} + a_{2} x + a_{3} x^{2} + a_{4} x^{3}$"
      ],
      "text/plain": [
       "a1 + a2*x + a3*x**2 + a4*x**3"
      ]
     },
     "execution_count": 5,
     "metadata": {},
     "output_type": "execute_result"
    }
   ],
   "source": [
    "w(x)"
   ]
  },
  {
   "cell_type": "code",
   "execution_count": 6,
   "metadata": {},
   "outputs": [],
   "source": [
    "# note: I've defined the RHS as negative because of how SymPy solves equations. \n",
    "# You get the correct answer either way, but the L-matrix has negative signs in opposite places\n",
    "bc = [\n",
    "    sp.Eq(w1,-w(0)), \n",
    "    sp.Eq(theta_1,-sp.diff(w(x),x).subs(x,0)),\n",
    "    sp.Eq(w2,-w(L)),\n",
    "    sp.Eq(theta_2,-sp.diff(w(x),x).subs(x,L))\n",
    "]"
   ]
  },
  {
   "cell_type": "code",
   "execution_count": 7,
   "metadata": {},
   "outputs": [
    {
     "data": {
      "text/latex": [
       "$\\displaystyle w_{2} = - L^{3} a_{4} - L^{2} a_{3} - L a_{2} - a_{1}$"
      ],
      "text/plain": [
       "Eq(w2, -L**3*a4 - L**2*a3 - L*a2 - a1)"
      ]
     },
     "execution_count": 7,
     "metadata": {},
     "output_type": "execute_result"
    }
   ],
   "source": [
    "bc[2]"
   ]
  },
  {
   "cell_type": "code",
   "execution_count": 8,
   "metadata": {},
   "outputs": [],
   "source": [
    "coeffs = [a1,a2,a3,a4]"
   ]
  },
  {
   "cell_type": "code",
   "execution_count": 9,
   "metadata": {},
   "outputs": [],
   "source": [
    "Lmat, DoF = sp.linear_eq_to_matrix(bc,coeffs)"
   ]
  },
  {
   "cell_type": "code",
   "execution_count": 10,
   "metadata": {},
   "outputs": [
    {
     "data": {
      "text/latex": [
       "$\\displaystyle \\left[\\begin{matrix}1 & 0 & 0 & 0\\\\0 & 1 & 0 & 0\\\\1 & L & L^{2} & L^{3}\\\\0 & 1 & 2 L & 3 L^{2}\\end{matrix}\\right]$"
      ],
      "text/plain": [
       "Matrix([\n",
       "[1, 0,    0,      0],\n",
       "[0, 1,    0,      0],\n",
       "[1, L, L**2,   L**3],\n",
       "[0, 1,  2*L, 3*L**2]])"
      ]
     },
     "execution_count": 10,
     "metadata": {},
     "output_type": "execute_result"
    }
   ],
   "source": [
    "Lmat"
   ]
  },
  {
   "cell_type": "code",
   "execution_count": 11,
   "metadata": {},
   "outputs": [
    {
     "data": {
      "text/latex": [
       "$\\displaystyle \\left[\\begin{matrix}1 & 0 & 0 & 0\\\\0 & 1 & 0 & 0\\\\- \\frac{3}{L^{2}} & - \\frac{2}{L} & \\frac{3}{L^{2}} & - \\frac{1}{L}\\\\\\frac{2}{L^{3}} & \\frac{1}{L^{2}} & - \\frac{2}{L^{3}} & \\frac{1}{L^{2}}\\end{matrix}\\right]$"
      ],
      "text/plain": [
       "Matrix([\n",
       "[      1,       0,       0,       0],\n",
       "[      0,       1,       0,       0],\n",
       "[-3/L**2,    -2/L,  3/L**2,    -1/L],\n",
       "[ 2/L**3, L**(-2), -2/L**3, L**(-2)]])"
      ]
     },
     "execution_count": 11,
     "metadata": {},
     "output_type": "execute_result"
    }
   ],
   "source": [
    "Lmat.inv()"
   ]
  },
  {
   "cell_type": "code",
   "execution_count": 12,
   "metadata": {},
   "outputs": [],
   "source": [
    "# Here again, the negative sign is to be consistent with the negative sign above in bc = [...]\n",
    "a = Lmat.inv()*(-DoF)"
   ]
  },
  {
   "cell_type": "code",
   "execution_count": 13,
   "metadata": {},
   "outputs": [],
   "source": [
    "a1, a2, a3, a4 = a[0], a[1], a[2], a[3]"
   ]
  },
  {
   "cell_type": "code",
   "execution_count": 14,
   "metadata": {},
   "outputs": [
    {
     "data": {
      "text/latex": [
       "$\\displaystyle \\theta_{1} x + w_{1} + x^{3} \\left(\\frac{\\theta_{1}}{L^{2}} + \\frac{\\theta_{2}}{L^{2}} + \\frac{2 w_{1}}{L^{3}} - \\frac{2 w_{2}}{L^{3}}\\right) + x^{2} \\left(- \\frac{2 \\theta_{1}}{L} - \\frac{\\theta_{2}}{L} - \\frac{3 w_{1}}{L^{2}} + \\frac{3 w_{2}}{L^{2}}\\right)$"
      ],
      "text/plain": [
       "theta_1*x + w1 + x**3*(theta_1/L**2 + theta_2/L**2 + 2*w1/L**3 - 2*w2/L**3) + x**2*(-2*theta_1/L - theta_2/L - 3*w1/L**2 + 3*w2/L**2)"
      ]
     },
     "execution_count": 14,
     "metadata": {},
     "output_type": "execute_result"
    }
   ],
   "source": [
    "w(x)"
   ]
  },
  {
   "cell_type": "code",
   "execution_count": 15,
   "metadata": {},
   "outputs": [],
   "source": [
    "forcesCouples = [\n",
    "    sp.Eq(F1,  E*I*sp.diff(w(x),x,3).subs(x,0)),\n",
    "    sp.Eq(M1, -E*I*sp.diff(w(x),x,2).subs(x,0)),\n",
    "    sp.Eq(F2, -E*I*sp.diff(w(x),x,3).subs(x,L)),\n",
    "    sp.Eq(M2,  E*I*sp.diff(w(x),x,2).subs(x,L))\n",
    "]"
   ]
  },
  {
   "cell_type": "code",
   "execution_count": 16,
   "metadata": {},
   "outputs": [
    {
     "data": {
      "text/latex": [
       "$\\displaystyle F_{1} = \\frac{6 E I \\left(\\theta_{1} + \\theta_{2} + \\frac{2 w_{1}}{L} - \\frac{2 w_{2}}{L}\\right)}{L^{2}}$"
      ],
      "text/plain": [
       "Eq(F1, 6*E*I*(theta_1 + theta_2 + 2*w1/L - 2*w2/L)/L**2)"
      ]
     },
     "execution_count": 16,
     "metadata": {},
     "output_type": "execute_result"
    }
   ],
   "source": [
    "forcesCouples[0]"
   ]
  },
  {
   "cell_type": "code",
   "execution_count": 17,
   "metadata": {},
   "outputs": [],
   "source": [
    "DoF = [w1, theta_1, w2, theta_2]\n",
    "Kel_b, FM = sp.linear_eq_to_matrix(forcesCouples,DoF)"
   ]
  },
  {
   "cell_type": "code",
   "execution_count": 18,
   "metadata": {},
   "outputs": [
    {
     "data": {
      "text/latex": [
       "$\\displaystyle \\left[\\begin{matrix}F_{1}\\\\M_{1}\\\\F_{2}\\\\M_{2}\\end{matrix}\\right]$"
      ],
      "text/plain": [
       "Matrix([\n",
       "[F1],\n",
       "[M1],\n",
       "[F2],\n",
       "[M2]])"
      ]
     },
     "execution_count": 18,
     "metadata": {},
     "output_type": "execute_result"
    }
   ],
   "source": [
    "-FM"
   ]
  },
  {
   "cell_type": "code",
   "execution_count": 19,
   "metadata": {},
   "outputs": [],
   "source": [
    "Kel_b = -Kel_b"
   ]
  },
  {
   "cell_type": "code",
   "execution_count": 20,
   "metadata": {},
   "outputs": [
    {
     "data": {
      "text/plain": [
       "[w1, theta_1, w2, theta_2]"
      ]
     },
     "execution_count": 20,
     "metadata": {},
     "output_type": "execute_result"
    }
   ],
   "source": [
    "DoF"
   ]
  },
  {
   "cell_type": "code",
   "execution_count": 21,
   "metadata": {},
   "outputs": [
    {
     "data": {
      "text/latex": [
       "$\\displaystyle \\left[\\begin{matrix}\\frac{12 E I}{L^{3}} & \\frac{6 E I}{L^{2}} & - \\frac{12 E I}{L^{3}} & \\frac{6 E I}{L^{2}}\\\\\\frac{6 E I}{L^{2}} & \\frac{4 E I}{L} & - \\frac{6 E I}{L^{2}} & \\frac{2 E I}{L}\\\\- \\frac{12 E I}{L^{3}} & - \\frac{6 E I}{L^{2}} & \\frac{12 E I}{L^{3}} & - \\frac{6 E I}{L^{2}}\\\\\\frac{6 E I}{L^{2}} & \\frac{2 E I}{L} & - \\frac{6 E I}{L^{2}} & \\frac{4 E I}{L}\\end{matrix}\\right]$"
      ],
      "text/plain": [
       "Matrix([\n",
       "[ 12*E*I/L**3,  6*E*I/L**2, -12*E*I/L**3,  6*E*I/L**2],\n",
       "[  6*E*I/L**2,     4*E*I/L,  -6*E*I/L**2,     2*E*I/L],\n",
       "[-12*E*I/L**3, -6*E*I/L**2,  12*E*I/L**3, -6*E*I/L**2],\n",
       "[  6*E*I/L**2,     2*E*I/L,  -6*E*I/L**2,     4*E*I/L]])"
      ]
     },
     "execution_count": 21,
     "metadata": {},
     "output_type": "execute_result"
    }
   ],
   "source": [
    "Kel_b"
   ]
  },
  {
   "cell_type": "markdown",
   "metadata": {},
   "source": [
    "<h2>Elemental Stiffness Matrix for Truss Elements</h2>\n"
   ]
  },
  {
   "cell_type": "code",
   "execution_count": 22,
   "metadata": {},
   "outputs": [],
   "source": [
    "E, A, L = sp.symbols('E A L') # materials and geometry"
   ]
  },
  {
   "cell_type": "code",
   "execution_count": 23,
   "metadata": {},
   "outputs": [],
   "source": [
    "Kel_t = E*A/L*sp.Array([\n",
    "    [1, 0, -1, 0],\n",
    "    [0, 0, 0, 0],\n",
    "    [-1, 0, 1, 0],\n",
    "    [0, 0, 0, 0]\n",
    "])"
   ]
  },
  {
   "cell_type": "code",
   "execution_count": 24,
   "metadata": {},
   "outputs": [
    {
     "data": {
      "text/latex": [
       "$\\displaystyle \\left[\\begin{matrix}\\frac{A E}{L} & 0 & - \\frac{A E}{L} & 0\\\\0 & 0 & 0 & 0\\\\- \\frac{A E}{L} & 0 & \\frac{A E}{L} & 0\\\\0 & 0 & 0 & 0\\end{matrix}\\right]$"
      ],
      "text/plain": [
       "[[A*E/L, 0, -A*E/L, 0], [0, 0, 0, 0], [-A*E/L, 0, A*E/L, 0], [0, 0, 0, 0]]"
      ]
     },
     "execution_count": 24,
     "metadata": {},
     "output_type": "execute_result"
    }
   ],
   "source": [
    "Kel_t"
   ]
  },
  {
   "cell_type": "markdown",
   "metadata": {},
   "source": [
    "<h2>Elemental Stiffness Matrix for Frame Elements</h2>"
   ]
  },
  {
   "cell_type": "code",
   "execution_count": 25,
   "metadata": {},
   "outputs": [],
   "source": [
    "Kel_f = sp.Array([\n",
    "    [Kel_t[0][0], 0, 0, Kel_t[0][2], 0, 0],\n",
    "    [0, Kel_b[0, 0], Kel_b[0, 1], 0, Kel_b[0, 2], Kel_b[0, 3]],\n",
    "    [0, Kel_b[1, 0], Kel_b[1, 1], 0, Kel_b[1, 2], Kel_b[1, 3]],\n",
    "    [Kel_t[2][0], 0, 0, Kel_t[2][2], 0, 0],\n",
    "    [0, Kel_b[2, 0], Kel_b[2, 1], 0, Kel_b[2, 2], Kel_b[2, 3]],\n",
    "    [0, Kel_b[3, 0], Kel_b[3, 1], 0, Kel_b[3, 2], Kel_b[3, 3]],\n",
    "])"
   ]
  },
  {
   "cell_type": "code",
   "execution_count": 26,
   "metadata": {},
   "outputs": [
    {
     "data": {
      "text/latex": [
       "$\\displaystyle \\left[\\begin{matrix}\\frac{A E}{L} & 0 & 0 & - \\frac{A E}{L} & 0 & 0\\\\0 & \\frac{12 E I}{L^{3}} & \\frac{6 E I}{L^{2}} & 0 & - \\frac{12 E I}{L^{3}} & \\frac{6 E I}{L^{2}}\\\\0 & \\frac{6 E I}{L^{2}} & \\frac{4 E I}{L} & 0 & - \\frac{6 E I}{L^{2}} & \\frac{2 E I}{L}\\\\- \\frac{A E}{L} & 0 & 0 & \\frac{A E}{L} & 0 & 0\\\\0 & - \\frac{12 E I}{L^{3}} & - \\frac{6 E I}{L^{2}} & 0 & \\frac{12 E I}{L^{3}} & - \\frac{6 E I}{L^{2}}\\\\0 & \\frac{6 E I}{L^{2}} & \\frac{2 E I}{L} & 0 & - \\frac{6 E I}{L^{2}} & \\frac{4 E I}{L}\\end{matrix}\\right]$"
      ],
      "text/plain": [
       "[[A*E/L, 0, 0, -A*E/L, 0, 0], [0, 12*E*I/L**3, 6*E*I/L**2, 0, -12*E*I/L**3, 6*E*I/L**2], [0, 6*E*I/L**2, 4*E*I/L, 0, -6*E*I/L**2, 2*E*I/L], [-A*E/L, 0, 0, A*E/L, 0, 0], [0, -12*E*I/L**3, -6*E*I/L**2, 0, 12*E*I/L**3, -6*E*I/L**2], [0, 6*E*I/L**2, 2*E*I/L, 0, -6*E*I/L**2, 4*E*I/L]]"
      ]
     },
     "execution_count": 26,
     "metadata": {},
     "output_type": "execute_result"
    }
   ],
   "source": [
    "Kel_f"
   ]
  },
  {
   "cell_type": "markdown",
   "metadata": {},
   "source": [
    "<h2>Elemental Stiffness Matrix in Global Coordinates</h2>"
   ]
  },
  {
   "cell_type": "code",
   "execution_count": 27,
   "metadata": {},
   "outputs": [],
   "source": [
    "from sympy.abc import c, s\n",
    "T_e = sp.Array([\n",
    "    [c, s, 0, 0, 0, 0],\n",
    "    [-s, c, 0, 0, 0, 0],\n",
    "    [0, 0, 1, 0, 0, 0],\n",
    "    [0, 0, 0, c, s, 0],\n",
    "    [0, 0, 0, -s, c, 0],\n",
    "    [0, 0, 0, 0, 0, 1]\n",
    "])"
   ]
  },
  {
   "cell_type": "code",
   "execution_count": 28,
   "metadata": {},
   "outputs": [
    {
     "data": {
      "text/latex": [
       "$\\displaystyle \\left[\\begin{matrix}c & s & 0 & 0 & 0 & 0\\\\- s & c & 0 & 0 & 0 & 0\\\\0 & 0 & 1 & 0 & 0 & 0\\\\0 & 0 & 0 & c & s & 0\\\\0 & 0 & 0 & - s & c & 0\\\\0 & 0 & 0 & 0 & 0 & 1\\end{matrix}\\right]$"
      ],
      "text/plain": [
       "[[c, s, 0, 0, 0, 0], [-s, c, 0, 0, 0, 0], [0, 0, 1, 0, 0, 0], [0, 0, 0, c, s, 0], [0, 0, 0, -s, c, 0], [0, 0, 0, 0, 0, 1]]"
      ]
     },
     "execution_count": 28,
     "metadata": {},
     "output_type": "execute_result"
    }
   ],
   "source": [
    "T_e"
   ]
  },
  {
   "cell_type": "code",
   "execution_count": 29,
   "metadata": {},
   "outputs": [],
   "source": [
    "T_e_T = sp.transpose(T_e)"
   ]
  },
  {
   "cell_type": "code",
   "execution_count": 30,
   "metadata": {},
   "outputs": [
    {
     "data": {
      "text/latex": [
       "$\\displaystyle \\left[\\begin{matrix}c & - s & 0 & 0 & 0 & 0\\\\s & c & 0 & 0 & 0 & 0\\\\0 & 0 & 1 & 0 & 0 & 0\\\\0 & 0 & 0 & c & - s & 0\\\\0 & 0 & 0 & s & c & 0\\\\0 & 0 & 0 & 0 & 0 & 1\\end{matrix}\\right]$"
      ],
      "text/plain": [
       "[[c, -s, 0, 0, 0, 0], [s, c, 0, 0, 0, 0], [0, 0, 1, 0, 0, 0], [0, 0, 0, c, -s, 0], [0, 0, 0, s, c, 0], [0, 0, 0, 0, 0, 1]]"
      ]
     },
     "execution_count": 30,
     "metadata": {},
     "output_type": "execute_result"
    }
   ],
   "source": [
    "T_e_T"
   ]
  },
  {
   "cell_type": "code",
   "execution_count": 31,
   "metadata": {},
   "outputs": [],
   "source": [
    "p = sp.tensorproduct(T_e_T,Kel_f)\n",
    "m = sp.tensorcontraction(p,(1,2))\n",
    "n = sp.tensorproduct(m,T_e)\n",
    "Kel = sp.tensorcontraction(n,(1,2))"
   ]
  },
  {
   "cell_type": "code",
   "execution_count": 32,
   "metadata": {},
   "outputs": [
    {
     "data": {
      "text/latex": [
       "$\\displaystyle \\left[\\begin{matrix}\\frac{A E c^{2}}{L} + \\frac{12 E I s^{2}}{L^{3}} & \\frac{A E c s}{L} - \\frac{12 E I c s}{L^{3}} & - \\frac{6 E I s}{L^{2}} & - \\frac{A E c^{2}}{L} - \\frac{12 E I s^{2}}{L^{3}} & - \\frac{A E c s}{L} + \\frac{12 E I c s}{L^{3}} & - \\frac{6 E I s}{L^{2}}\\\\\\frac{A E c s}{L} - \\frac{12 E I c s}{L^{3}} & \\frac{A E s^{2}}{L} + \\frac{12 E I c^{2}}{L^{3}} & \\frac{6 E I c}{L^{2}} & - \\frac{A E c s}{L} + \\frac{12 E I c s}{L^{3}} & - \\frac{A E s^{2}}{L} - \\frac{12 E I c^{2}}{L^{3}} & \\frac{6 E I c}{L^{2}}\\\\- \\frac{6 E I s}{L^{2}} & \\frac{6 E I c}{L^{2}} & \\frac{4 E I}{L} & \\frac{6 E I s}{L^{2}} & - \\frac{6 E I c}{L^{2}} & \\frac{2 E I}{L}\\\\- \\frac{A E c^{2}}{L} - \\frac{12 E I s^{2}}{L^{3}} & - \\frac{A E c s}{L} + \\frac{12 E I c s}{L^{3}} & \\frac{6 E I s}{L^{2}} & \\frac{A E c^{2}}{L} + \\frac{12 E I s^{2}}{L^{3}} & \\frac{A E c s}{L} - \\frac{12 E I c s}{L^{3}} & \\frac{6 E I s}{L^{2}}\\\\- \\frac{A E c s}{L} + \\frac{12 E I c s}{L^{3}} & - \\frac{A E s^{2}}{L} - \\frac{12 E I c^{2}}{L^{3}} & - \\frac{6 E I c}{L^{2}} & \\frac{A E c s}{L} - \\frac{12 E I c s}{L^{3}} & \\frac{A E s^{2}}{L} + \\frac{12 E I c^{2}}{L^{3}} & - \\frac{6 E I c}{L^{2}}\\\\- \\frac{6 E I s}{L^{2}} & \\frac{6 E I c}{L^{2}} & \\frac{2 E I}{L} & \\frac{6 E I s}{L^{2}} & - \\frac{6 E I c}{L^{2}} & \\frac{4 E I}{L}\\end{matrix}\\right]$"
      ],
      "text/plain": [
       "[[A*E*c**2/L + 12*E*I*s**2/L**3, A*E*c*s/L - 12*E*I*c*s/L**3, -6*E*I*s/L**2, -A*E*c**2/L - 12*E*I*s**2/L**3, -A*E*c*s/L + 12*E*I*c*s/L**3, -6*E*I*s/L**2], [A*E*c*s/L - 12*E*I*c*s/L**3, A*E*s**2/L + 12*E*I*c**2/L**3, 6*E*I*c/L**2, -A*E*c*s/L + 12*E*I*c*s/L**3, -A*E*s**2/L - 12*E*I*c**2/L**3, 6*E*I*c/L**2], [-6*E*I*s/L**2, 6*E*I*c/L**2, 4*E*I/L, 6*E*I*s/L**2, -6*E*I*c/L**2, 2*E*I/L], [-A*E*c**2/L - 12*E*I*s**2/L**3, -A*E*c*s/L + 12*E*I*c*s/L**3, 6*E*I*s/L**2, A*E*c**2/L + 12*E*I*s**2/L**3, A*E*c*s/L - 12*E*I*c*s/L**3, 6*E*I*s/L**2], [-A*E*c*s/L + 12*E*I*c*s/L**3, -A*E*s**2/L - 12*E*I*c**2/L**3, -6*E*I*c/L**2, A*E*c*s/L - 12*E*I*c*s/L**3, A*E*s**2/L + 12*E*I*c**2/L**3, -6*E*I*c/L**2], [-6*E*I*s/L**2, 6*E*I*c/L**2, 2*E*I/L, 6*E*I*s/L**2, -6*E*I*c/L**2, 4*E*I/L]]"
      ]
     },
     "execution_count": 32,
     "metadata": {},
     "output_type": "execute_result"
    }
   ],
   "source": [
    "Kel"
   ]
  },
  {
   "cell_type": "markdown",
   "metadata": {},
   "source": [
    "<h2>Solving Frame Problems</h2>\n",
    "<h3>Geometry, Materials, and Boundary Conditions</h3>\n",
    "Here, we will define the ($x$,$y$) coordinates of each node."
   ]
  },
  {
   "cell_type": "code",
   "execution_count": 33,
   "metadata": {},
   "outputs": [],
   "source": [
    "# [x1,y1], ... the (x,y) position of node 1, 2, 3...\n",
    "nodes = np.array([\n",
    "    [0,4],\n",
    "    [3,4],\n",
    "    [0,0],\n",
    "    [3,0],\n",
    "    [6,0]\n",
    "])\n",
    "# a list of all the nodes, and a list of all degrees of freedom (DoF)\n",
    "node_numbers = np.array([*range(len(nodes))])\n",
    "node_DoF = np.array([*range(3*len(nodes))])"
   ]
  },
  {
   "cell_type": "code",
   "execution_count": 34,
   "metadata": {},
   "outputs": [
    {
     "data": {
      "text/plain": [
       "array([ 0,  1,  2,  3,  4,  5,  6,  7,  8,  9, 10, 11, 12, 13, 14])"
      ]
     },
     "execution_count": 34,
     "metadata": {},
     "output_type": "execute_result"
    }
   ],
   "source": [
    "node_DoF"
   ]
  },
  {
   "cell_type": "code",
   "execution_count": 35,
   "metadata": {},
   "outputs": [],
   "source": [
    "# element e is connected at nodes i and j\n",
    "# element e: [node i, node j, Young's Modulus, Cross Sectional Area, I] ... note: we'll calculate L later\n",
    "elements = np.array([\n",
    "    [1, 2, 2e11, 1e-5, 8.33e-12],\n",
    "    [1, 3, 2e11, 1e-5, 8.33e-12],\n",
    "    [3, 2, 2e11, 1e-5, 8.33e-12],\n",
    "    [2, 4, 2e11, 1e-5, 8.33e-12],\n",
    "    [2, 5, 2e11, 1e-5, 8.33e-12],\n",
    "    [3, 4, 2e11, 1e-5, 8.33e-12],\n",
    "    [4, 5, 2e11, 1e-5, 8.33e-12]\n",
    "])"
   ]
  },
  {
   "cell_type": "code",
   "execution_count": 36,
   "metadata": {},
   "outputs": [
    {
     "data": {
      "image/png": "[encoded data removed]",
      "text/plain": [
       "<Figure size 432x288 with 1 Axes>"
      ]
     },
     "metadata": {
      "needs_background": "light"
     },
     "output_type": "display_data"
    }
   ],
   "source": [
    "# set axes aspect ratio = 1\n",
    "# turn off the axis\n",
    "plt.axes().set_aspect('equal') \n",
    "plt.axis('off') \n",
    "\n",
    "# plot the nodes\n",
    "plt.plot(nodes[:,0], nodes[:,1], 'k.',markersize=15)\n",
    "# plot the elements\n",
    "# loop through the list of elements, grab the x position and y position of each node associated with that element\n",
    "# the line: 'elements[i,0]-1' is necessary because python starts counting at 0, not 1 (like MATLAB)\n",
    "for i in range(len(elements)):\n",
    "    plt.plot(np.array([\n",
    "    nodes[int(elements[i,0]-1),0], nodes[int(elements[i,1]-1),0]]),\n",
    "         np.array([nodes[int(elements[i,0]-1),1], nodes[int(elements[i,1]-1),1]]),\n",
    "         'k-')\n",
    "plt.show()"
   ]
  },
  {
   "cell_type": "code",
   "execution_count": 37,
   "metadata": {},
   "outputs": [],
   "source": [
    "# dirichlet boundary conditions\n",
    "# [node, DoF (x=1, y=2, theta=3), value]\n",
    "bc = np.array([\n",
    "    [1,1,0],\n",
    "    [1,2,0],\n",
    "    [3,1,0],\n",
    "    [5,1,0],\n",
    "    [5,2,0]\n",
    "])"
   ]
  },
  {
   "cell_type": "code",
   "execution_count": 38,
   "metadata": {},
   "outputs": [],
   "source": [
    "# neumann boundary conditions - e.g. forces\n",
    "# [node, DoF (x=1,y=2), magnitude of force]\n",
    "forces = np.array([\n",
    "    [2,1, 10e4],\n",
    "    [4,2,-10e4]\n",
    "])"
   ]
  },
  {
   "cell_type": "markdown",
   "metadata": {},
   "source": [
    "<h3>Finding Elemental Stiffness Matrices</h3>"
   ]
  },
  {
   "cell_type": "code",
   "execution_count": 39,
   "metadata": {},
   "outputs": [],
   "source": [
    "# initializing the vectors F, u, and the matrix K\n",
    "F = u = np.zeros(3*len(nodes))\n",
    "K = np.zeros([3*len(nodes), 3*len(nodes)])"
   ]
  },
  {
   "cell_type": "code",
   "execution_count": 40,
   "metadata": {},
   "outputs": [],
   "source": [
    "#returns x and y coordinates of an element's nodew\n",
    "def XY(nodes, elements, i):\n",
    "    return np.array([\n",
    "        nodes[int(elements[i,0]-1)],\n",
    "        nodes[int(elements[i,1]-1)]\n",
    "    ])"
   ]
  },
  {
   "cell_type": "code",
   "execution_count": 41,
   "metadata": {},
   "outputs": [
    {
     "data": {
      "text/latex": [
       "$\\displaystyle \\left[\\begin{matrix}0 & 4\\\\0 & 0\\end{matrix}\\right]$"
      ],
      "text/plain": [
       "Matrix([\n",
       "[0, 4],\n",
       "[0, 0]])"
      ]
     },
     "execution_count": 41,
     "metadata": {},
     "output_type": "execute_result"
    }
   ],
   "source": [
    "#Sample output for element 2\n",
    "sp.Matrix(XY(nodes, elements, 1))"
   ]
  },
  {
   "cell_type": "code",
   "execution_count": 42,
   "metadata": {},
   "outputs": [],
   "source": [
    "# elemental stiffness matrix for truss element in local coordinates\n",
    "def Kel(XY, E, A):\n",
    "    x1, y1, x2, y2 = XY[0,0], XY[0,1], XY[1,0], XY[1,1]\n",
    "    \n",
    "    L = math.sqrt((x2-x1)**2 + (y2-y1)**2)\n",
    "    \n",
    "    Kel = E*A/L*np.array([\n",
    "    [1, 0, -1, 0],\n",
    "    [0, 0, 0, 0],\n",
    "    [-1, 0, 1, 0],\n",
    "    [0, 0, 0, 0]\n",
    "    ])\n",
    "    \n",
    "    return Kel  "
   ]
  },
  {
   "cell_type": "code",
   "execution_count": 43,
   "metadata": {},
   "outputs": [
    {
     "data": {
      "text/latex": [
       "$\\displaystyle \\left[\\begin{matrix}500000.0 & 0.0 & -500000.0 & 0.0\\\\0.0 & 0.0 & 0.0 & 0.0\\\\-500000.0 & 0.0 & 500000.0 & 0.0\\\\0.0 & 0.0 & 0.0 & 0.0\\end{matrix}\\right]$"
      ],
      "text/plain": [
       "Matrix([\n",
       "[ 500000.0, 0.0, -500000.0, 0.0],\n",
       "[      0.0, 0.0,       0.0, 0.0],\n",
       "[-500000.0, 0.0,  500000.0, 0.0],\n",
       "[      0.0, 0.0,       0.0, 0.0]])"
      ]
     },
     "execution_count": 43,
     "metadata": {},
     "output_type": "execute_result"
    }
   ],
   "source": [
    "#Sample output for element 2\n",
    "sp.Matrix(Kel(XY(nodes, elements, 1), elements[1, 2], elements[1, 3]))"
   ]
  },
  {
   "cell_type": "code",
   "execution_count": 44,
   "metadata": {},
   "outputs": [],
   "source": [
    "# elemental stiffness matrix of a beam element in local coordinates\n",
    "def Kbel(XY, E, I):\n",
    "    x1, y1, x2, y2 = XY[0,0], XY[0,1], XY[1,0], XY[1,1]\n",
    "    \n",
    "    L = sp.sqrt((x2-x1)**2 + (y2-y1)**2)\n",
    "\n",
    "    Kbel = ((E*I)/(L**3))*np.array([\n",
    "        [12, 6*L, -12, 6*L],\n",
    "        [6*L, 4*L**2, -6*L, 2*L**2],\n",
    "        [-12, -6*L, 12, -6*L],\n",
    "        [6*L, 2*L**2, -6*L, 4*L**2]\n",
    "    ])\n",
    "                  \n",
    "    return Kbel  "
   ]
  },
  {
   "cell_type": "code",
   "execution_count": 45,
   "metadata": {},
   "outputs": [
    {
     "data": {
      "text/latex": [
       "$\\displaystyle \\left[\\begin{matrix}0.312375 & 0.62475 & -0.312375 & 0.62475\\\\0.62475 & 1.666 & -0.62475 & 0.833\\\\-0.312375 & -0.62475 & 0.312375 & -0.62475\\\\0.62475 & 0.833 & -0.62475 & 1.666\\end{matrix}\\right]$"
      ],
      "text/plain": [
       "Matrix([\n",
       "[ 0.312375,  0.62475, -0.312375,  0.62475],\n",
       "[  0.62475,    1.666,  -0.62475,    0.833],\n",
       "[-0.312375, -0.62475,  0.312375, -0.62475],\n",
       "[  0.62475,    0.833,  -0.62475,    1.666]])"
      ]
     },
     "execution_count": 45,
     "metadata": {},
     "output_type": "execute_result"
    }
   ],
   "source": [
    "#Sample output for element 2\n",
    "sp.Matrix(Kbel(XY(nodes, elements, 1), elements[1, 2], elements[1, 4]))"
   ]
  },
  {
   "cell_type": "code",
   "execution_count": 46,
   "metadata": {},
   "outputs": [],
   "source": [
    "# combined elemental stiffness matrix for frame element in local coordinates\n",
    "def Kel_f(Kel_t,Kel_b):\n",
    "    Kel_f = np.array([\n",
    "        [Kel_t[0, 0], 0, 0, Kel_t[0, 2], 0, 0],\n",
    "        [0, Kel_b[0, 0], Kel_b[0, 1], 0, Kel_b[0, 2], Kel_b[0, 3]],\n",
    "        [0, Kel_b[1, 0], Kel_b[1, 1], 0, Kel_b[1, 2], Kel_b[1, 3]],\n",
    "        [Kel_t[2, 0], 0, 0, Kel_t[2, 2], 0, 0],\n",
    "        [0, Kel_b[2, 0], Kel_b[2, 1], 0, Kel_b[2, 2], Kel_b[2, 3]],\n",
    "        [0, Kel_b[3, 0], Kel_b[3, 1], 0, Kel_b[3, 2], Kel_b[3, 3]],\n",
    "    ])\n",
    "    \n",
    "    return Kel_f"
   ]
  },
  {
   "cell_type": "code",
   "execution_count": 47,
   "metadata": {},
   "outputs": [
    {
     "data": {
      "text/latex": [
       "$\\displaystyle \\left[\\begin{matrix}500000.0 & 0 & 0 & -500000.0 & 0 & 0\\\\0 & 0.312375 & 0.62475 & 0 & -0.312375 & 0.62475\\\\0 & 0.62475 & 1.666 & 0 & -0.62475 & 0.833\\\\-500000.0 & 0 & 0 & 500000.0 & 0 & 0\\\\0 & -0.312375 & -0.62475 & 0 & 0.312375 & -0.62475\\\\0 & 0.62475 & 0.833 & 0 & -0.62475 & 1.666\\end{matrix}\\right]$"
      ],
      "text/plain": [
       "Matrix([\n",
       "[ 500000.0,         0,        0, -500000.0,         0,        0],\n",
       "[        0,  0.312375,  0.62475,         0, -0.312375,  0.62475],\n",
       "[        0,   0.62475,    1.666,         0,  -0.62475,    0.833],\n",
       "[-500000.0,         0,        0,  500000.0,         0,        0],\n",
       "[        0, -0.312375, -0.62475,         0,  0.312375, -0.62475],\n",
       "[        0,   0.62475,    0.833,         0,  -0.62475,    1.666]])"
      ]
     },
     "execution_count": 47,
     "metadata": {},
     "output_type": "execute_result"
    }
   ],
   "source": [
    "#Sample output for element 2\n",
    "sp.Matrix(Kel_f(Kel(XY(nodes, elements, 1), elements[1, 2], elements[1, 3]),Kbel(XY(nodes, elements, 1), elements[1, 2], elements[1, 4])))"
   ]
  },
  {
   "cell_type": "code",
   "execution_count": 48,
   "metadata": {},
   "outputs": [],
   "source": [
    "# elemental stiffness matrix for frame element in global coordinates\n",
    "def Kel_f_global(Kel_f, XY):\n",
    "    x1, y1, x2, y2 = XY[0,0], XY[0,1], XY[1,0], XY[1,1]\n",
    "    \n",
    "    L = math.sqrt((x2-x1)**2 + (y2-y1)**2)\n",
    "    c = (x2-x1)/L\n",
    "    s = (y2-y1)/L\n",
    "    \n",
    "    T_e = np.array([\n",
    "        [c, s, 0, 0, 0, 0],\n",
    "        [-s, c, 0, 0, 0, 0],\n",
    "        [0, 0, 1, 0, 0, 0],\n",
    "        [0, 0, 0, c, s, 0],\n",
    "        [0, 0, 0, -s, c, 0],\n",
    "        [0, 0, 0, 0, 0, 1]\n",
    "    ])\n",
    "    \n",
    "    T_e_T = np.transpose(T_e)\n",
    "    \n",
    "    Kel_f_global = np.matmul(np.matmul(T_e, Kel_f), T_e_T)\n",
    "    \n",
    "    return Kel_f_global"
   ]
  },
  {
   "cell_type": "code",
   "execution_count": 49,
   "metadata": {
    "scrolled": true
   },
   "outputs": [
    {
     "data": {
      "text/latex": [
       "$\\displaystyle \\left[\\begin{matrix}0.312375 & 0 & -0.62475 & -0.312375 & 0 & -0.62475\\\\0 & 500000.0 & 0 & 0 & -500000.0 & 0\\\\-0.62475 & 0 & 1.666 & 0.62475 & 0 & 0.833\\\\-0.312375 & 0 & 0.62475 & 0.312375 & 0 & 0.62475\\\\0 & -500000.0 & 0 & 0 & 500000.0 & 0\\\\-0.62475 & 0 & 0.833 & 0.62475 & 0 & 1.666\\end{matrix}\\right]$"
      ],
      "text/plain": [
       "Matrix([\n",
       "[ 0.312375,         0, -0.62475, -0.312375,         0, -0.62475],\n",
       "[        0,  500000.0,        0,         0, -500000.0,        0],\n",
       "[ -0.62475,         0,    1.666,   0.62475,         0,    0.833],\n",
       "[-0.312375,         0,  0.62475,  0.312375,         0,  0.62475],\n",
       "[        0, -500000.0,        0,         0,  500000.0,        0],\n",
       "[ -0.62475,         0,    0.833,   0.62475,         0,    1.666]])"
      ]
     },
     "execution_count": 49,
     "metadata": {},
     "output_type": "execute_result"
    }
   ],
   "source": [
    "#Sample output for element 2\n",
    "sp.Matrix(Kel_f_global(Kel_f(Kel(XY(nodes, elements, 1), elements[1, 2], elements[1, 3]),Kbel(XY(nodes, elements, 1), elements[1, 2], elements[1, 4])),XY(nodes, elements, 1)))"
   ]
  },
  {
   "cell_type": "code",
   "execution_count": 50,
   "metadata": {},
   "outputs": [],
   "source": [
    "# for element e, what degrees of freedom in the structure do the nodes correspond to?\n",
    "def elementDoF(node_DoF, elements, i):\n",
    "    node_i = int(elements[i,:2][0])-1 # -1 is for python counting\n",
    "    node_j = int(elements[i,:2][1])-1 # -1 is for python counting\n",
    "    \n",
    "    elementDoF = np.array([\n",
    "        [node_DoF[3*node_i]],\n",
    "        [node_DoF[3*node_i+1]],\n",
    "        [node_DoF[3*node_i+2]],\n",
    "        [node_DoF[3*node_j]],\n",
    "        [node_DoF[3*node_j+1]],\n",
    "        [node_DoF[3*node_j+2]],\n",
    "    ])\n",
    "\n",
    "    return elementDoF"
   ]
  },
  {
   "cell_type": "code",
   "execution_count": 51,
   "metadata": {},
   "outputs": [
    {
     "data": {
      "text/latex": [
       "$\\displaystyle \\left[\\begin{matrix}0\\\\1\\\\2\\\\6\\\\7\\\\8\\end{matrix}\\right]$"
      ],
      "text/plain": [
       "Matrix([\n",
       "[0],\n",
       "[1],\n",
       "[2],\n",
       "[6],\n",
       "[7],\n",
       "[8]])"
      ]
     },
     "execution_count": 51,
     "metadata": {},
     "output_type": "execute_result"
    }
   ],
   "source": [
    "#Sample output for element 2\n",
    "sp.Matrix(elementDoF(node_DoF, elements, 1))"
   ]
  },
  {
   "cell_type": "code",
   "execution_count": 52,
   "metadata": {},
   "outputs": [],
   "source": [
    "# augment the elemental stiffness matrix by inserting the local stiffness matrix \n",
    "# into the correct location within the global stiffness matrix.\n",
    "# this could be done more efficiently, but i will add a visualization above to help identify what goes where\n",
    "\n",
    "def Kaug(K, e, Kel, node_DoF):\n",
    "    i = elementDoF(node_DoF, elements, e)[0][0] #Xi\n",
    "    j = elementDoF(node_DoF, elements, e)[1][0] #Yi\n",
    "    m = elementDoF(node_DoF, elements, e)[2][0] #Thetai\n",
    "    k = elementDoF(node_DoF, elements, e)[3][0] #Xj\n",
    "    l = elementDoF(node_DoF, elements, e)[4][0] #Yj\n",
    "    n = elementDoF(node_DoF, elements, e)[5][0] #Thetaj\n",
    "    \n",
    "    #Diagonal Values\n",
    "    K[i][i] += Kel[0][0] \n",
    "    K[j][j] += Kel[1][1]\n",
    "    K[m][m] += Kel[2][2]\n",
    "    K[k][k] += Kel[3][3]\n",
    "    K[l][l] += Kel[4][4]\n",
    "    K[n][n] += Kel[5][5]\n",
    "    \n",
    "    #Xi Values\n",
    "    K[i][j] += Kel[0][1]\n",
    "    K[j][i] += Kel[0][1]\n",
    "    K[i][m] += Kel[0][2]\n",
    "    K[m][i] += Kel[0][2]\n",
    "    K[i][k] += Kel[0][3]\n",
    "    K[k][i] += Kel[0][3] \n",
    "    K[i][l] += Kel[0][4]\n",
    "    K[l][i] += Kel[0][4]\n",
    "    K[i][n] += Kel[0][5]\n",
    "    K[n][i] += Kel[0][5]\n",
    "    \n",
    "    #Yi Values  \n",
    "    K[j][m] += Kel[1][2]\n",
    "    K[m][j] += Kel[1][2] \n",
    "    K[j][k] += Kel[1][3]\n",
    "    K[k][j] += Kel[1][3]    \n",
    "    K[j][l] += Kel[1][4]\n",
    "    K[l][j] += Kel[1][4]\n",
    "    K[j][n] += Kel[1][5]\n",
    "    K[n][j] += Kel[1][5]\n",
    "    \n",
    "    #Thetai Values\n",
    "    K[m][k] += Kel[2][3]\n",
    "    K[k][m] += Kel[2][3]\n",
    "    K[m][l] += Kel[2][4]\n",
    "    K[l][m] += Kel[2][4]\n",
    "    K[m][n] += Kel[2][5]\n",
    "    K[n][m] += Kel[2][5]\n",
    "    \n",
    "    #Xj Values\n",
    "    K[k][l] += Kel[3][4]\n",
    "    K[l][k] += Kel[3][4]\n",
    "    K[k][n] += Kel[3][5]\n",
    "    K[n][k] += Kel[3][5]\n",
    "    \n",
    "    #Yj Values\n",
    "    K[l][n] += Kel[4][5]\n",
    "    K[n][l] += Kel[4][5]\n",
    "    \n",
    "    return K"
   ]
  },
  {
   "cell_type": "code",
   "execution_count": 53,
   "metadata": {
    "scrolled": true
   },
   "outputs": [
    {
     "data": {
      "text/latex": [
       "$\\displaystyle \\left[\\begin{array}{ccccccccccccccc}0.312375 & 0.0 & -0.62475 & 0.0 & 0.0 & 0.0 & -0.312375 & 0.0 & -0.62475 & 0.0 & 0.0 & 0.0 & 0.0 & 0.0 & 0.0\\\\0.0 & 500000.0 & 0.0 & 0.0 & 0.0 & 0.0 & 0.0 & -500000.0 & 0.0 & 0.0 & 0.0 & 0.0 & 0.0 & 0.0 & 0.0\\\\-0.62475 & 0.0 & 1.666 & 0.0 & 0.0 & 0.0 & 0.62475 & 0.0 & 0.833 & 0.0 & 0.0 & 0.0 & 0.0 & 0.0 & 0.0\\\\0.0 & 0.0 & 0.0 & 0.0 & 0.0 & 0.0 & 0.0 & 0.0 & 0.0 & 0.0 & 0.0 & 0.0 & 0.0 & 0.0 & 0.0\\\\0.0 & 0.0 & 0.0 & 0.0 & 0.0 & 0.0 & 0.0 & 0.0 & 0.0 & 0.0 & 0.0 & 0.0 & 0.0 & 0.0 & 0.0\\\\0.0 & 0.0 & 0.0 & 0.0 & 0.0 & 0.0 & 0.0 & 0.0 & 0.0 & 0.0 & 0.0 & 0.0 & 0.0 & 0.0 & 0.0\\\\-0.312375 & 0.0 & 0.62475 & 0.0 & 0.0 & 0.0 & 0.312375 & 0.0 & 0.62475 & 0.0 & 0.0 & 0.0 & 0.0 & 0.0 & 0.0\\\\0.0 & -500000.0 & 0.0 & 0.0 & 0.0 & 0.0 & 0.0 & 500000.0 & 0.0 & 0.0 & 0.0 & 0.0 & 0.0 & 0.0 & 0.0\\\\-0.62475 & 0.0 & 0.833 & 0.0 & 0.0 & 0.0 & 0.62475 & 0.0 & 1.666 & 0.0 & 0.0 & 0.0 & 0.0 & 0.0 & 0.0\\\\0.0 & 0.0 & 0.0 & 0.0 & 0.0 & 0.0 & 0.0 & 0.0 & 0.0 & 0.0 & 0.0 & 0.0 & 0.0 & 0.0 & 0.0\\\\0.0 & 0.0 & 0.0 & 0.0 & 0.0 & 0.0 & 0.0 & 0.0 & 0.0 & 0.0 & 0.0 & 0.0 & 0.0 & 0.0 & 0.0\\\\0.0 & 0.0 & 0.0 & 0.0 & 0.0 & 0.0 & 0.0 & 0.0 & 0.0 & 0.0 & 0.0 & 0.0 & 0.0 & 0.0 & 0.0\\\\0.0 & 0.0 & 0.0 & 0.0 & 0.0 & 0.0 & 0.0 & 0.0 & 0.0 & 0.0 & 0.0 & 0.0 & 0.0 & 0.0 & 0.0\\\\0.0 & 0.0 & 0.0 & 0.0 & 0.0 & 0.0 & 0.0 & 0.0 & 0.0 & 0.0 & 0.0 & 0.0 & 0.0 & 0.0 & 0.0\\\\0.0 & 0.0 & 0.0 & 0.0 & 0.0 & 0.0 & 0.0 & 0.0 & 0.0 & 0.0 & 0.0 & 0.0 & 0.0 & 0.0 & 0.0\\end{array}\\right]$"
      ],
      "text/plain": [
       "Matrix([\n",
       "[ 0.312375,       0.0, -0.62475, 0.0, 0.0, 0.0, -0.312375,       0.0, -0.62475, 0.0, 0.0, 0.0, 0.0, 0.0, 0.0],\n",
       "[      0.0,  500000.0,      0.0, 0.0, 0.0, 0.0,       0.0, -500000.0,      0.0, 0.0, 0.0, 0.0, 0.0, 0.0, 0.0],\n",
       "[ -0.62475,       0.0,    1.666, 0.0, 0.0, 0.0,   0.62475,       0.0,    0.833, 0.0, 0.0, 0.0, 0.0, 0.0, 0.0],\n",
       "[      0.0,       0.0,      0.0, 0.0, 0.0, 0.0,       0.0,       0.0,      0.0, 0.0, 0.0, 0.0, 0.0, 0.0, 0.0],\n",
       "[      0.0,       0.0,      0.0, 0.0, 0.0, 0.0,       0.0,       0.0,      0.0, 0.0, 0.0, 0.0, 0.0, 0.0, 0.0],\n",
       "[      0.0,       0.0,      0.0, 0.0, 0.0, 0.0,       0.0,       0.0,      0.0, 0.0, 0.0, 0.0, 0.0, 0.0, 0.0],\n",
       "[-0.312375,       0.0,  0.62475, 0.0, 0.0, 0.0,  0.312375,       0.0,  0.62475, 0.0, 0.0, 0.0, 0.0, 0.0, 0.0],\n",
       "[      0.0, -500000.0,      0.0, 0.0, 0.0, 0.0,       0.0,  500000.0,      0.0, 0.0, 0.0, 0.0, 0.0, 0.0, 0.0],\n",
       "[ -0.62475,       0.0,    0.833, 0.0, 0.0, 0.0,   0.62475,       0.0,    1.666, 0.0, 0.0, 0.0, 0.0, 0.0, 0.0],\n",
       "[      0.0,       0.0,      0.0, 0.0, 0.0, 0.0,       0.0,       0.0,      0.0, 0.0, 0.0, 0.0, 0.0, 0.0, 0.0],\n",
       "[      0.0,       0.0,      0.0, 0.0, 0.0, 0.0,       0.0,       0.0,      0.0, 0.0, 0.0, 0.0, 0.0, 0.0, 0.0],\n",
       "[      0.0,       0.0,      0.0, 0.0, 0.0, 0.0,       0.0,       0.0,      0.0, 0.0, 0.0, 0.0, 0.0, 0.0, 0.0],\n",
       "[      0.0,       0.0,      0.0, 0.0, 0.0, 0.0,       0.0,       0.0,      0.0, 0.0, 0.0, 0.0, 0.0, 0.0, 0.0],\n",
       "[      0.0,       0.0,      0.0, 0.0, 0.0, 0.0,       0.0,       0.0,      0.0, 0.0, 0.0, 0.0, 0.0, 0.0, 0.0],\n",
       "[      0.0,       0.0,      0.0, 0.0, 0.0, 0.0,       0.0,       0.0,      0.0, 0.0, 0.0, 0.0, 0.0, 0.0, 0.0]])"
      ]
     },
     "execution_count": 53,
     "metadata": {},
     "output_type": "execute_result"
    }
   ],
   "source": [
    "#Sample output for element 2\n",
    "sp.Matrix(Kaug(K, 1, Kel_f_global(Kel_f(Kel(XY(nodes, elements, 1), elements[1, 2], elements[1, 3]),Kbel(XY(nodes, elements, 1), elements[1, 2], elements[1, 4])),XY(nodes, elements, 1)), node_DoF))"
   ]
  },
  {
   "cell_type": "markdown",
   "metadata": {},
   "source": [
    "<h3>Calculating Master Stiffness Matrix</h3>"
   ]
  },
  {
   "cell_type": "code",
   "execution_count": 54,
   "metadata": {},
   "outputs": [],
   "source": [
    "def MasterStiffness(nodes, node_DoF, elements, K):\n",
    "# Calculate the Master Stiffness matrix:\n",
    "# 1. Get the x & y coordinates of each node connected to element i\n",
    "# 2. Calculate the truss member stiffness matrix for element i\n",
    "# 3. Calculate the beam member stiffness matrix for element i\n",
    "# 4. Combine to form frame member stiffness matrix for element i in local coordinates\n",
    "# 5. Calculate member stiffness matrix in global coordinates\n",
    "# 6. Augment the elemental stiffness matrix to the size of K\n",
    "# 7. Add it to K, loop over the remaining elements\n",
    "    for i in range(len(elements)):\n",
    "        nodesXY = XY(nodes, elements, i) #1\n",
    "        Keli  = Kel(nodesXY, elements[i,2], elements[i,3]) #2\n",
    "        Kbeli  = Kbel(nodesXY, elements[i,2], elements[i,4]) #3\n",
    "        Kel_fi = Kel_f(Keli, Kbeli) #4\n",
    "        Kel_f_globali = Kel_f_global(Kel_fi, nodesXY) #5\n",
    "        K = Kaug(K, i, Kel_f_globali, node_DoF) #6 and 7  \n",
    "    return K"
   ]
  },
  {
   "cell_type": "code",
   "execution_count": 55,
   "metadata": {},
   "outputs": [],
   "source": [
    "#Reset K to clear the example results and then calculate master stiffness matrix\n",
    "K = np.zeros([3*len(nodes), 3*len(nodes)])\n",
    "K = MasterStiffness(nodes, node_DoF, elements,K)"
   ]
  },
  {
   "cell_type": "code",
   "execution_count": 56,
   "metadata": {
    "scrolled": true
   },
   "outputs": [
    {
     "data": {
      "text/latex": [
       "$\\displaystyle \\left[\\begin{array}{ccccccccccccccc}666666.979041667 & 0.0 & -0.62475 & -666666.666666667 & 0.0 & 0.0 & -0.312375 & 0.0 & -0.62475 & 0.0 & 0.0 & 0.0 & 0.0 & 0.0 & 0.0\\\\0.0 & 500000.740444445 & 1.11066666666667 & 0.0 & -0.740444444444444 & 1.11066666666667 & 0.0 & -500000.0 & 0.0 & 0.0 & 0.0 & 0.0 & 0.0 & 0.0 & 0.0\\\\-0.62475 & 1.11066666666667 & 3.88733333333333 & 0.0 & -1.11066666666667 & 1.11066666666667 & 0.62475 & 0.0 & 0.833 & 0.0 & 0.0 & 0.0 & 0.0 & 0.0 & 0.0\\\\-666666.666666667 & 0.0 & 0.0 & 954667.183759747 & 0.0 & -1.264494 & -144000.10235904 & 191999.92323072 & -0.319872 & -0.312375 & 0.0 & -0.62475 & -144000.10235904 & -191999.92323072 & -0.319872\\\\0.0 & -0.740444444444444 & -1.11066666666667 & 0.0 & 1012000.85559836 & -1.11066666666667 & 191999.92323072 & -256000.05757696 & -0.239904 & 0.0 & -500000.0 & 0.0 & -191999.92323072 & -256000.05757696 & 0.239904\\\\0.0 & 1.11066666666667 & 1.11066666666667 & -1.264494 & -1.11066666666667 & 6.55293333333333 & 0.319872 & 0.239904 & 0.6664 & 0.62475 & 0.0 & 0.833 & 0.319872 & -0.239904 & 0.6664\\\\-0.312375 & 0.0 & 0.62475 & -144000.10235904 & 191999.92323072 & 0.319872 & 810667.081400707 & -191999.92323072 & 0.944622 & -666666.666666667 & 0.0 & 0.0 & 0.0 & 0.0 & 0.0\\\\0.0 & -500000.0 & 0.0 & 191999.92323072 & -256000.05757696 & 0.239904 & -191999.92323072 & 756000.798021405 & 1.35057066666667 & 0.0 & -0.740444444444444 & 1.11066666666667 & 0.0 & 0.0 & 0.0\\\\-0.62475 & 0.0 & 0.833 & -0.319872 & -0.239904 & 0.6664 & 0.944622 & 1.35057066666667 & 5.22013333333333 & 0.0 & -1.11066666666667 & 1.11066666666667 & 0.0 & 0.0 & 0.0\\\\0.0 & 0.0 & 0.0 & -0.312375 & 0.0 & 0.62475 & -666666.666666667 & 0.0 & 0.0 & 1333333.64570833 & 0.0 & 0.62475 & -666666.666666667 & 0.0 & 0.0\\\\0.0 & 0.0 & 0.0 & 0.0 & -500000.0 & 0.0 & 0.0 & -0.740444444444444 & -1.11066666666667 & 0.0 & 500001.480888889 & 0.0 & 0.0 & -0.740444444444444 & 1.11066666666667\\\\0.0 & 0.0 & 0.0 & -0.62475 & 0.0 & 0.833 & 0.0 & 1.11066666666667 & 1.11066666666667 & 0.62475 & 0.0 & 6.10866666666667 & 0.0 & -1.11066666666667 & 1.11066666666667\\\\0.0 & 0.0 & 0.0 & -144000.10235904 & -191999.92323072 & 0.319872 & 0.0 & 0.0 & 0.0 & -666666.666666667 & 0.0 & 0.0 & 810666.769025707 & 191999.92323072 & 0.319872\\\\0.0 & 0.0 & 0.0 & -191999.92323072 & -256000.05757696 & -0.239904 & 0.0 & 0.0 & 0.0 & 0.0 & -0.740444444444444 & -1.11066666666667 & 191999.92323072 & 256000.798021405 & -1.35057066666667\\\\0.0 & 0.0 & 0.0 & -0.319872 & 0.239904 & 0.6664 & 0.0 & 0.0 & 0.0 & 0.0 & 1.11066666666667 & 1.11066666666667 & 0.319872 & -1.35057066666667 & 3.55413333333333\\end{array}\\right]$"
      ],
      "text/plain": [
       "Matrix([\n",
       "[ 666666.979041667,                0.0,          -0.62475, -666666.666666667,                0.0,               0.0,         -0.312375,                0.0,          -0.62475,               0.0,                0.0,               0.0,               0.0,                0.0,               0.0],\n",
       "[              0.0,   500000.740444445,  1.11066666666667,               0.0, -0.740444444444444,  1.11066666666667,               0.0,          -500000.0,               0.0,               0.0,                0.0,               0.0,               0.0,                0.0,               0.0],\n",
       "[         -0.62475,   1.11066666666667,  3.88733333333333,               0.0,  -1.11066666666667,  1.11066666666667,           0.62475,                0.0,             0.833,               0.0,                0.0,               0.0,               0.0,                0.0,               0.0],\n",
       "[-666666.666666667,                0.0,               0.0,  954667.183759747,                0.0,         -1.264494,  -144000.10235904,    191999.92323072,         -0.319872,         -0.312375,                0.0,          -0.62475,  -144000.10235904,   -191999.92323072,         -0.319872],\n",
       "[              0.0, -0.740444444444444, -1.11066666666667,               0.0,   1012000.85559836, -1.11066666666667,   191999.92323072,   -256000.05757696,         -0.239904,               0.0,          -500000.0,               0.0,  -191999.92323072,   -256000.05757696,          0.239904],\n",
       "[              0.0,   1.11066666666667,  1.11066666666667,         -1.264494,  -1.11066666666667,  6.55293333333333,          0.319872,           0.239904,            0.6664,           0.62475,                0.0,             0.833,          0.319872,          -0.239904,            0.6664],\n",
       "[        -0.312375,                0.0,           0.62475,  -144000.10235904,    191999.92323072,          0.319872,  810667.081400707,   -191999.92323072,          0.944622, -666666.666666667,                0.0,               0.0,               0.0,                0.0,               0.0],\n",
       "[              0.0,          -500000.0,               0.0,   191999.92323072,   -256000.05757696,          0.239904,  -191999.92323072,   756000.798021405,  1.35057066666667,               0.0, -0.740444444444444,  1.11066666666667,               0.0,                0.0,               0.0],\n",
       "[         -0.62475,                0.0,             0.833,         -0.319872,          -0.239904,            0.6664,          0.944622,   1.35057066666667,  5.22013333333333,               0.0,  -1.11066666666667,  1.11066666666667,               0.0,                0.0,               0.0],\n",
       "[              0.0,                0.0,               0.0,         -0.312375,                0.0,           0.62475, -666666.666666667,                0.0,               0.0,  1333333.64570833,                0.0,           0.62475, -666666.666666667,                0.0,               0.0],\n",
       "[              0.0,                0.0,               0.0,               0.0,          -500000.0,               0.0,               0.0, -0.740444444444444, -1.11066666666667,               0.0,   500001.480888889,               0.0,               0.0, -0.740444444444444,  1.11066666666667],\n",
       "[              0.0,                0.0,               0.0,          -0.62475,                0.0,             0.833,               0.0,   1.11066666666667,  1.11066666666667,           0.62475,                0.0,  6.10866666666667,               0.0,  -1.11066666666667,  1.11066666666667],\n",
       "[              0.0,                0.0,               0.0,  -144000.10235904,   -191999.92323072,          0.319872,               0.0,                0.0,               0.0, -666666.666666667,                0.0,               0.0,  810666.769025707,    191999.92323072,          0.319872],\n",
       "[              0.0,                0.0,               0.0,  -191999.92323072,   -256000.05757696,         -0.239904,               0.0,                0.0,               0.0,               0.0, -0.740444444444444, -1.11066666666667,   191999.92323072,   256000.798021405, -1.35057066666667],\n",
       "[              0.0,                0.0,               0.0,         -0.319872,           0.239904,            0.6664,               0.0,                0.0,               0.0,               0.0,   1.11066666666667,  1.11066666666667,          0.319872,  -1.35057066666667,  3.55413333333333]])"
      ]
     },
     "execution_count": 56,
     "metadata": {},
     "output_type": "execute_result"
    }
   ],
   "source": [
    "sp.Matrix(K)"
   ]
  },
  {
   "cell_type": "markdown",
   "metadata": {},
   "source": [
    "<h3>Reduce K by Eliminating Constrained Degrees of Freedom</h3>"
   ]
  },
  {
   "cell_type": "code",
   "execution_count": 57,
   "metadata": {},
   "outputs": [],
   "source": [
    "# initialize vectors for the specified displacements and forces. these will be [1 x DoF]\n",
    "u_specified=[]\n",
    "F_specified=[0]*3*len(nodes)\n",
    "\n",
    "# what DoF are specified?\n",
    "for i in range(len(bc)):\n",
    "    u_specified.append(3*(bc[i,0]-1)+bc[i,1]-1)\n",
    "# assign the external forces to the corresponding DoF in F   \n",
    "for i in range(len(forces)):    \n",
    "    F_specified[int(3*(forces[i,0]-1)+forces[i,1]-1)]=forces[i,2]\n",
    "    \n",
    "u_unknown = np.delete(u,u_specified) # deleting the specified displacments from u\n",
    "K_reduced = np.delete(K,u_specified,0) # deleting rows\n",
    "K_reduced = np.delete(K_reduced,u_specified,1) # deleting columns\n",
    "F_specified = np.delete(F_specified,u_specified) # deleting the forces that correspond to specified displacments"
   ]
  },
  {
   "cell_type": "code",
   "execution_count": 58,
   "metadata": {},
   "outputs": [
    {
     "data": {
      "text/latex": [
       "$\\displaystyle \\left[\\begin{matrix}3.88733333333333 & 0.0 & -1.11066666666667 & 1.11066666666667 & 0.0 & 0.833 & 0.0 & 0.0 & 0.0 & 0.0\\\\0.0 & 954667.183759747 & 0.0 & -1.264494 & 191999.92323072 & -0.319872 & -0.312375 & 0.0 & -0.62475 & -0.319872\\\\-1.11066666666667 & 0.0 & 1012000.85559836 & -1.11066666666667 & -256000.05757696 & -0.239904 & 0.0 & -500000.0 & 0.0 & 0.239904\\\\1.11066666666667 & -1.264494 & -1.11066666666667 & 6.55293333333333 & 0.239904 & 0.6664 & 0.62475 & 0.0 & 0.833 & 0.6664\\\\0.0 & 191999.92323072 & -256000.05757696 & 0.239904 & 756000.798021405 & 1.35057066666667 & 0.0 & -0.740444444444444 & 1.11066666666667 & 0.0\\\\0.833 & -0.319872 & -0.239904 & 0.6664 & 1.35057066666667 & 5.22013333333333 & 0.0 & -1.11066666666667 & 1.11066666666667 & 0.0\\\\0.0 & -0.312375 & 0.0 & 0.62475 & 0.0 & 0.0 & 1333333.64570833 & 0.0 & 0.62475 & 0.0\\\\0.0 & 0.0 & -500000.0 & 0.0 & -0.740444444444444 & -1.11066666666667 & 0.0 & 500001.480888889 & 0.0 & 1.11066666666667\\\\0.0 & -0.62475 & 0.0 & 0.833 & 1.11066666666667 & 1.11066666666667 & 0.62475 & 0.0 & 6.10866666666667 & 1.11066666666667\\\\0.0 & -0.319872 & 0.239904 & 0.6664 & 0.0 & 0.0 & 0.0 & 1.11066666666667 & 1.11066666666667 & 3.55413333333333\\end{matrix}\\right]$"
      ],
      "text/plain": [
       "Matrix([\n",
       "[ 3.88733333333333,              0.0, -1.11066666666667,  1.11066666666667,                0.0,             0.833,              0.0,                0.0,              0.0,              0.0],\n",
       "[              0.0, 954667.183759747,               0.0,         -1.264494,    191999.92323072,         -0.319872,        -0.312375,                0.0,         -0.62475,        -0.319872],\n",
       "[-1.11066666666667,              0.0,  1012000.85559836, -1.11066666666667,   -256000.05757696,         -0.239904,              0.0,          -500000.0,              0.0,         0.239904],\n",
       "[ 1.11066666666667,        -1.264494, -1.11066666666667,  6.55293333333333,           0.239904,            0.6664,          0.62475,                0.0,            0.833,           0.6664],\n",
       "[              0.0,  191999.92323072,  -256000.05757696,          0.239904,   756000.798021405,  1.35057066666667,              0.0, -0.740444444444444, 1.11066666666667,              0.0],\n",
       "[            0.833,        -0.319872,         -0.239904,            0.6664,   1.35057066666667,  5.22013333333333,              0.0,  -1.11066666666667, 1.11066666666667,              0.0],\n",
       "[              0.0,        -0.312375,               0.0,           0.62475,                0.0,               0.0, 1333333.64570833,                0.0,          0.62475,              0.0],\n",
       "[              0.0,              0.0,         -500000.0,               0.0, -0.740444444444444, -1.11066666666667,              0.0,   500001.480888889,              0.0, 1.11066666666667],\n",
       "[              0.0,         -0.62475,               0.0,             0.833,   1.11066666666667,  1.11066666666667,          0.62475,                0.0, 6.10866666666667, 1.11066666666667],\n",
       "[              0.0,        -0.319872,          0.239904,            0.6664,                0.0,               0.0,              0.0,   1.11066666666667, 1.11066666666667, 3.55413333333333]])"
      ]
     },
     "execution_count": 58,
     "metadata": {},
     "output_type": "execute_result"
    }
   ],
   "source": [
    "sp.Matrix(K_reduced)"
   ]
  },
  {
   "cell_type": "markdown",
   "metadata": {},
   "source": [
    "<h3>Solve for Unknown Displacements</h3>"
   ]
  },
  {
   "cell_type": "code",
   "execution_count": 59,
   "metadata": {},
   "outputs": [],
   "source": [
    "u_unknown = sp.Matrix(K_reduced).inv()*sp.Matrix(F_specified)"
   ]
  },
  {
   "cell_type": "code",
   "execution_count": 60,
   "metadata": {},
   "outputs": [
    {
     "data": {
      "text/latex": [
       "$\\displaystyle \\left[\\begin{matrix}-0.0542595988100242\\\\0.128672918136279\\\\-0.254790354084613\\\\-0.0178607241149615\\\\-0.118957286411099\\\\-0.0626947121794225\\\\3.00983184569914 \\cdot 10^{-8}\\\\-0.454789697124934\\\\0.0179617279117152\\\\0.168636537683663\\end{matrix}\\right]$"
      ],
      "text/plain": [
       "Matrix([\n",
       "[-0.0542595988100242],\n",
       "[  0.128672918136279],\n",
       "[ -0.254790354084613],\n",
       "[-0.0178607241149615],\n",
       "[ -0.118957286411099],\n",
       "[-0.0626947121794225],\n",
       "[3.00983184569914e-8],\n",
       "[ -0.454789697124934],\n",
       "[ 0.0179617279117152],\n",
       "[  0.168636537683663]])"
      ]
     },
     "execution_count": 60,
     "metadata": {},
     "output_type": "execute_result"
    }
   ],
   "source": [
    "u_unknown"
   ]
  },
  {
   "cell_type": "code",
   "execution_count": 61,
   "metadata": {},
   "outputs": [],
   "source": [
    "# create a list of all the displacement degrees of freedom (DoF)\n",
    "u_DoF=[]\n",
    "for i in range(len(u)):\n",
    "    u_DoF.append(i)\n",
    "\n",
    "# get the index locations of the free degrees of freedom (DoF)    \n",
    "u_free = (list(set(u_DoF) - set(u_specified)))    \n",
    "\n",
    "# put the free (formerly unknown) displacements into the displacement vector u\n",
    "# np.put(u,u_free,u_unknown)\n",
    "for i in u_specified:\n",
    "    u_unknown = u_unknown.row_insert(int(i), sp.Matrix([0]))\n",
    "    \n",
    "u = u_unknown    "
   ]
  },
  {
   "cell_type": "code",
   "execution_count": 62,
   "metadata": {},
   "outputs": [
    {
     "data": {
      "text/latex": [
       "$\\displaystyle \\left[\\begin{matrix}0\\\\0\\\\-0.0542595988100242\\\\0.128672918136279\\\\-0.254790354084613\\\\-0.0178607241149615\\\\0\\\\-0.118957286411099\\\\-0.0626947121794225\\\\3.00983184569914 \\cdot 10^{-8}\\\\-0.454789697124934\\\\0.0179617279117152\\\\0\\\\0\\\\0.168636537683663\\end{matrix}\\right]$"
      ],
      "text/plain": [
       "Matrix([\n",
       "[                  0],\n",
       "[                  0],\n",
       "[-0.0542595988100242],\n",
       "[  0.128672918136279],\n",
       "[ -0.254790354084613],\n",
       "[-0.0178607241149615],\n",
       "[                  0],\n",
       "[ -0.118957286411099],\n",
       "[-0.0626947121794225],\n",
       "[3.00983184569914e-8],\n",
       "[ -0.454789697124934],\n",
       "[ 0.0179617279117152],\n",
       "[                  0],\n",
       "[                  0],\n",
       "[  0.168636537683663]])"
      ]
     },
     "execution_count": 62,
     "metadata": {},
     "output_type": "execute_result"
    }
   ],
   "source": [
    "#Total Displacement Vector\n",
    "u"
   ]
  },
  {
   "cell_type": "markdown",
   "metadata": {},
   "source": [
    "<h3>Solve for Forces/Moments</h3>"
   ]
  },
  {
   "cell_type": "code",
   "execution_count": 63,
   "metadata": {},
   "outputs": [],
   "source": [
    "#Solve for forces\n",
    "F = np.dot(np.array(K),np.array(u))"
   ]
  },
  {
   "cell_type": "code",
   "execution_count": 64,
   "metadata": {},
   "outputs": [
    {
     "data": {
      "text/latex": [
       "$\\displaystyle \\left[\\begin{matrix}-85781.8723569802\\\\59478.7517620132\\\\-2.28983498828939 \\cdot 10^{-16}\\\\100000.0\\\\-1.19881798932298 \\cdot 10^{-10}\\\\-6.38378239159465 \\cdot 10^{-16}\\\\-44608.9708481483\\\\1.85687819287406 \\cdot 10^{-11}\\\\-1.42247325030098 \\cdot 10^{-16}\\\\-2.84743409406651 \\cdot 10^{-12}\\\\-100000.0\\\\7.7715611723761 \\cdot 10^{-16}\\\\30390.8432051285\\\\40521.2482379868\\\\3.33066907387547 \\cdot 10^{-16}\\end{matrix}\\right]$"
      ],
      "text/plain": [
       "Matrix([\n",
       "[    -85781.8723569802],\n",
       "[     59478.7517620132],\n",
       "[-2.28983498828939e-16],\n",
       "[             100000.0],\n",
       "[-1.19881798932298e-10],\n",
       "[-6.38378239159465e-16],\n",
       "[    -44608.9708481483],\n",
       "[ 1.85687819287406e-11],\n",
       "[-1.42247325030098e-16],\n",
       "[-2.84743409406651e-12],\n",
       "[            -100000.0],\n",
       "[  7.7715611723761e-16],\n",
       "[     30390.8432051285],\n",
       "[     40521.2482379868],\n",
       "[ 3.33066907387547e-16]])"
      ]
     },
     "execution_count": 64,
     "metadata": {},
     "output_type": "execute_result"
    }
   ],
   "source": [
    "#Display result for forces/moments\n",
    "#Note: Many quantities are very close to zero such that they can be approximated as such (Moments)\n",
    "sp.Matrix(F)"
   ]
  },
  {
   "cell_type": "markdown",
   "metadata": {},
   "source": [
    "<h2>Plotting the initial and deformed truss</h2>\n",
    "First, let's collect the new location of the nodes."
   ]
  },
  {
   "cell_type": "code",
   "execution_count": 65,
   "metadata": {},
   "outputs": [],
   "source": [
    "#Trim rotational displacements from u vector as they dont factor into x,y location of the nodes\n",
    "u_rot = [2, 5, 8, 11, 14]\n",
    "u_frame = np.delete(u, u_rot, None)\n",
    "nodes_new = nodes+np.reshape(u_frame,(len(nodes),2))"
   ]
  },
  {
   "cell_type": "code",
   "execution_count": 66,
   "metadata": {},
   "outputs": [
    {
     "data": {
      "image/png": "[encoded data removed]",
      "text/plain": [
       "<Figure size 432x288 with 1 Axes>"
      ]
     },
     "metadata": {
      "needs_background": "light"
     },
     "output_type": "display_data"
    }
   ],
   "source": [
    "# set axes aspect ratio = 1\n",
    "# turn off the axis\n",
    "plt.axes().set_aspect('equal') \n",
    "plt.axis('off') \n",
    "\n",
    "# plot the nodes\n",
    "plt.plot(nodes[:,0], nodes[:,1], 'k.',markersize=15)\n",
    "plt.plot(nodes_new[:,0], nodes_new[:,1], 'r.',markersize=15)\n",
    "# plot the elements\n",
    "# loop through the list of elements, grab the x position and y position of each node associated with that element\n",
    "# the line: 'elements[i,0]-1' is necessary because python starts counting at 0, not 1 (like MATLAB)\n",
    "for i in range(len(elements)):\n",
    "    plt.plot(np.array([\n",
    "    nodes[int(elements[i,0]-1),0], nodes[int(elements[i,1]-1),0]]),\n",
    "         np.array([nodes[int(elements[i,0]-1),1], nodes[int(elements[i,1]-1),1]]),\n",
    "         'k-')\n",
    "# plot the deformed elements\n",
    "for i in range(len(elements)):\n",
    "    plt.plot(np.array([\n",
    "    nodes_new[int(elements[i,0]-1),0], nodes_new[int(elements[i,1]-1),0]]),\n",
    "         np.array([nodes_new[int(elements[i,0]-1),1], nodes_new[int(elements[i,1]-1),1]]),\n",
    "         'r-')    \n",
    "plt.show()"
   ]
  },
  {
   "cell_type": "markdown",
   "metadata": {},
   "source": [
    "<h2>Compare Forces and Displacements to Truss Element Method</h2>"
   ]
  },
  {
   "cell_type": "code",
   "execution_count": 67,
   "metadata": {},
   "outputs": [],
   "source": [
    "#Results from planar truss code\n",
    "u_truss = np.array([0, 0, 0.0945497630331754, -0.220667950236967, 0, -0.0507109004739336, 0, -0.420667950236967, 0, 0])\n",
    "F_truss = np.array([-63033.1753554503, 25355.4502369668, 100000, -1.4915713109076e-10, 19016.5876777252, 9.45874489843845e-11, 0, -100000, -55983.4123222749, 74644.5497630333])"
   ]
  },
  {
   "cell_type": "code",
   "execution_count": 68,
   "metadata": {},
   "outputs": [
    {
     "data": {
      "text/latex": [
       "$\\displaystyle \\left[\\begin{matrix}0.0\\\\0.0\\\\0.0945497630331754\\\\-0.220667950236967\\\\0.0\\\\-0.0507109004739336\\\\0.0\\\\-0.420667950236967\\\\0.0\\\\0.0\\end{matrix}\\right]$"
      ],
      "text/plain": [
       "Matrix([\n",
       "[                0.0],\n",
       "[                0.0],\n",
       "[ 0.0945497630331754],\n",
       "[ -0.220667950236967],\n",
       "[                0.0],\n",
       "[-0.0507109004739336],\n",
       "[                0.0],\n",
       "[ -0.420667950236967],\n",
       "[                0.0],\n",
       "[                0.0]])"
      ]
     },
     "execution_count": 68,
     "metadata": {},
     "output_type": "execute_result"
    }
   ],
   "source": [
    "sp.Matrix(u_truss)"
   ]
  },
  {
   "cell_type": "code",
   "execution_count": 69,
   "metadata": {},
   "outputs": [
    {
     "data": {
      "text/latex": [
       "$\\displaystyle \\left[\\begin{matrix}-63033.1753554503\\\\25355.4502369668\\\\100000.0\\\\-1.4915713109076 \\cdot 10^{-10}\\\\19016.5876777252\\\\9.45874489843845 \\cdot 10^{-11}\\\\0.0\\\\-100000.0\\\\-55983.4123222749\\\\74644.5497630333\\end{matrix}\\right]$"
      ],
      "text/plain": [
       "Matrix([\n",
       "[   -63033.1753554503],\n",
       "[    25355.4502369668],\n",
       "[            100000.0],\n",
       "[-1.4915713109076e-10],\n",
       "[    19016.5876777252],\n",
       "[9.45874489843845e-11],\n",
       "[                 0.0],\n",
       "[           -100000.0],\n",
       "[   -55983.4123222749],\n",
       "[    74644.5497630333]])"
      ]
     },
     "execution_count": 69,
     "metadata": {},
     "output_type": "execute_result"
    }
   ],
   "source": [
    "sp.Matrix(F_truss)"
   ]
  },
  {
   "cell_type": "code",
   "execution_count": 70,
   "metadata": {},
   "outputs": [
    {
     "data": {
      "text/latex": [
       "$\\displaystyle \\left[\\begin{matrix}0\\\\0\\\\0.128672918136279\\\\-0.254790354084613\\\\0\\\\-0.118957286411099\\\\3.00983184569914 \\cdot 10^{-8}\\\\-0.454789697124934\\\\0\\\\0\\end{matrix}\\right]$"
      ],
      "text/plain": [
       "Matrix([\n",
       "[                  0],\n",
       "[                  0],\n",
       "[  0.128672918136279],\n",
       "[ -0.254790354084613],\n",
       "[                  0],\n",
       "[ -0.118957286411099],\n",
       "[3.00983184569914e-8],\n",
       "[ -0.454789697124934],\n",
       "[                  0],\n",
       "[                  0]])"
      ]
     },
     "execution_count": 70,
     "metadata": {},
     "output_type": "execute_result"
    }
   ],
   "source": [
    "#Results from frame code with rotational displacements and moments removed\n",
    "sp.Matrix(u_frame)"
   ]
  },
  {
   "cell_type": "code",
   "execution_count": 71,
   "metadata": {},
   "outputs": [
    {
     "data": {
      "text/latex": [
       "$\\displaystyle \\left[\\begin{matrix}-85781.8723569802\\\\59478.7517620132\\\\100000.0\\\\-1.19881798932298 \\cdot 10^{-10}\\\\-44608.9708481483\\\\1.85687819287406 \\cdot 10^{-11}\\\\-2.84743409406651 \\cdot 10^{-12}\\\\-100000.0\\\\30390.8432051285\\\\40521.2482379868\\end{matrix}\\right]$"
      ],
      "text/plain": [
       "Matrix([\n",
       "[    -85781.8723569802],\n",
       "[     59478.7517620132],\n",
       "[             100000.0],\n",
       "[-1.19881798932298e-10],\n",
       "[    -44608.9708481483],\n",
       "[ 1.85687819287406e-11],\n",
       "[-2.84743409406651e-12],\n",
       "[            -100000.0],\n",
       "[     30390.8432051285],\n",
       "[     40521.2482379868]])"
      ]
     },
     "execution_count": 71,
     "metadata": {},
     "output_type": "execute_result"
    }
   ],
   "source": [
    "#Trim moments from F vector\n",
    "F_rot = [2, 5, 8, 11, 14]\n",
    "F_frame = np.delete(F, F_rot, None)\n",
    "sp.Matrix(F_frame)"
   ]
  },
  {
   "cell_type": "markdown",
   "metadata": {},
   "source": [
    "<h3>Difference in Displacements</h3>"
   ]
  },
  {
   "cell_type": "code",
   "execution_count": 72,
   "metadata": {},
   "outputs": [],
   "source": [
    "#Calculate difference between frame and planar truss results\n",
    "u_diff = u_frame - u_truss"
   ]
  },
  {
   "cell_type": "code",
   "execution_count": 73,
   "metadata": {},
   "outputs": [
    {
     "data": {
      "text/latex": [
       "$\\displaystyle \\left[\\begin{matrix}0\\\\0\\\\0.0341231551031036\\\\-0.0341224038476458\\\\0\\\\-0.0682463859371658\\\\3.00983184569914 \\cdot 10^{-8}\\\\-0.0341217468879672\\\\0\\\\0\\end{matrix}\\right]$"
      ],
      "text/plain": [
       "Matrix([\n",
       "[                  0],\n",
       "[                  0],\n",
       "[ 0.0341231551031036],\n",
       "[-0.0341224038476458],\n",
       "[                  0],\n",
       "[-0.0682463859371658],\n",
       "[3.00983184569914e-8],\n",
       "[-0.0341217468879672],\n",
       "[                  0],\n",
       "[                  0]])"
      ]
     },
     "execution_count": 73,
     "metadata": {},
     "output_type": "execute_result"
    }
   ],
   "source": [
    "sp.Matrix(u_diff)"
   ]
  },
  {
   "cell_type": "markdown",
   "metadata": {},
   "source": [
    "<h3>Difference in Forces</h3>"
   ]
  },
  {
   "cell_type": "code",
   "execution_count": 74,
   "metadata": {},
   "outputs": [],
   "source": [
    "#Calculate difference between frame and planar truss results\n",
    "F_diff = F_frame - F_truss"
   ]
  },
  {
   "cell_type": "code",
   "execution_count": 75,
   "metadata": {},
   "outputs": [
    {
     "data": {
      "text/latex": [
       "$\\displaystyle \\left[\\begin{matrix}-22748.6970015299\\\\34123.3015250464\\\\-4.36557456851006 \\cdot 10^{-11}\\\\2.92753321584624 \\cdot 10^{-11}\\\\-63625.5585258735\\\\-7.60186670556439 \\cdot 10^{-11}\\\\-2.84743409406651 \\cdot 10^{-12}\\\\4.36557456851006 \\cdot 10^{-11}\\\\86374.2555274034\\\\-34123.3015250465\\end{matrix}\\right]$"
      ],
      "text/plain": [
       "Matrix([\n",
       "[    -22748.6970015299],\n",
       "[     34123.3015250464],\n",
       "[-4.36557456851006e-11],\n",
       "[ 2.92753321584624e-11],\n",
       "[    -63625.5585258735],\n",
       "[-7.60186670556439e-11],\n",
       "[-2.84743409406651e-12],\n",
       "[ 4.36557456851006e-11],\n",
       "[     86374.2555274034],\n",
       "[    -34123.3015250465]])"
      ]
     },
     "execution_count": 75,
     "metadata": {},
     "output_type": "execute_result"
    }
   ],
   "source": [
    "sp.Matrix(F_diff)"
   ]
  },
  {
   "cell_type": "markdown",
   "metadata": {},
   "source": [
    "<h3>Plot Initial and Deformed Results from Frame and Truss Methods</h3>\n",
    "<h4>Frame Method: Red</h4>\n",
    "<h4>Truss Method: Blue</h4>"
   ]
  },
  {
   "cell_type": "code",
   "execution_count": 76,
   "metadata": {},
   "outputs": [],
   "source": [
    "#Find new node locations for truss method\n",
    "nodes_new_truss = nodes+np.reshape(u_truss,(len(nodes),2))"
   ]
  },
  {
   "cell_type": "code",
   "execution_count": 77,
   "metadata": {},
   "outputs": [
    {
     "data": {
      "image/png": "[encoded data removed]",
      "text/plain": [
       "<Figure size 1152x1152 with 1 Axes>"
      ]
     },
     "metadata": {
      "needs_background": "light"
     },
     "output_type": "display_data"
    }
   ],
   "source": [
    "# set axes aspect ratio = 1\n",
    "# turn off the axis\n",
    "plt.figure(figsize=(16, 16))\n",
    "plt.axes().set_aspect('equal') \n",
    "plt.axis('off') \n",
    "\n",
    "# plot the nodes\n",
    "plt.plot(nodes[:,0], nodes[:,1], 'k.',markersize=15)\n",
    "plt.plot(nodes_new_truss[:,0], nodes_new_truss[:,1], 'b.',markersize=15)\n",
    "plt.plot(nodes_new[:,0], nodes_new[:,1], 'r.',markersize=15)\n",
    "# plot the elements\n",
    "# loop through the list of elements, grab the x position and y position of each node associated with that element\n",
    "# the line: 'elements[i,0]-1' is necessary because python starts counting at 0, not 1 (like MATLAB)\n",
    "for i in range(len(elements)):\n",
    "    plt.plot(np.array([\n",
    "    nodes[int(elements[i,0]-1),0], nodes[int(elements[i,1]-1),0]]),\n",
    "         np.array([nodes[int(elements[i,0]-1),1], nodes[int(elements[i,1]-1),1]]),\n",
    "         'k-')\n",
    "# plot the deformed elements using truss method in blue\n",
    "for i in range(len(elements)):\n",
    "    plt.plot(np.array([\n",
    "    nodes_new_truss[int(elements[i,0]-1),0], nodes_new_truss[int(elements[i,1]-1),0]]),\n",
    "         np.array([nodes_new_truss[int(elements[i,0]-1),1], nodes_new_truss[int(elements[i,1]-1),1]]),\n",
    "         'b-')\n",
    "# plot the deformed elements using Frame method in Red\n",
    "for i in range(len(elements)):\n",
    "    plt.plot(np.array([\n",
    "    nodes_new[int(elements[i,0]-1),0], nodes_new[int(elements[i,1]-1),0]]),\n",
    "         np.array([nodes_new[int(elements[i,0]-1),1], nodes_new[int(elements[i,1]-1),1]]),\n",
    "         'r-')    \n",
    "plt.legend(['Undeformed', 'Truss Method', 'Frame Method'])\n",
    "plt.show()"
   ]
  }
 ],
 "metadata": {
  "kernelspec": {
   "display_name": "Python 3",
   "language": "python",
   "name": "python3"
  },
  "language_info": {
   "codemirror_mode": {
    "name": "ipython",
    "version": 3
   },
   "file_extension": ".py",
   "mimetype": "text/x-python",
   "name": "python",
   "nbconvert_exporter": "python",
   "pygments_lexer": "ipython3",
   "version": "3.7.6"
  }
 },
 "nbformat": 4,
 "nbformat_minor": 2
}
